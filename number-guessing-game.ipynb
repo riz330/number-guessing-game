{
 "cells": [
  {
   "cell_type": "code",
   "execution_count": null,
   "id": "6d2a9ef9-25d0-4d5d-8d17-2e94ebd3b9de",
   "metadata": {},
   "outputs": [],
   "source": [
    "import numpy as np\n",
    "comp_input=np.random.randint(1,5,1)\n",
    "li=['Try Again','Try Again','Better Luck Next Time']\n",
    "print(\"\"\"The game you're describing can be called a \"Number Guessing Game\". In this game, the computer generates a random numberand the player tries to guess it within a limited number of attempts.The player is rewarded based on how quickly they guess the correct number, with higher rewards for fewer attempts\"\"\")\n",
    "print('You Will Be Given 3 Attempts')\n",
    "\n",
    "count=0\n",
    "for i in range(3):\n",
    "    count=count+1\n",
    "    \n",
    "    print('It is Your',count,'attempt')\n",
    "    user_input=int(input('Enter Any No Between 0 To 5'))\n",
    "    print('Your Input :',user_input)\n",
    "    \n",
    "    \n",
    "    if count==1 and comp_input==user_input:\n",
    "        print('Congratualtions You Won in 1st attempt \\nYou Have Earned 5 Stars')\n",
    "        break\n",
    "        \n",
    "    elif count==2 and comp_input==user_input:\n",
    "        print('Congratulations You Won in 2nd Attempt \\nYou Have Earned 3 Stars')\n",
    "        break\n",
    "    elif count==3 and comp_input==user_input:\n",
    "        print('Congratulations You Won in 3rd Attempt\\nYou Have Earned 2 Stars')\n",
    "        break\n",
    "    else:\n",
    "        print(li[i])\n",
    "\n",
    "\n",
    "    \n",
    "\n",
    "\n"
   ]
  }
 ],
 "metadata": {
  "kernelspec": {
   "display_name": "Python 3 (ipykernel)",
   "language": "python",
   "name": "python3"
  },
  "language_info": {
   "codemirror_mode": {
    "name": "ipython",
    "version": 3
   },
   "file_extension": ".py",
   "mimetype": "text/x-python",
   "name": "python",
   "nbconvert_exporter": "python",
   "pygments_lexer": "ipython3",
   "version": "3.12.4"
  }
 },
 "nbformat": 4,
 "nbformat_minor": 5
}
